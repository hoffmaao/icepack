{
 "cells": [
  {
   "cell_type": "code",
   "execution_count": null,
   "metadata": {},
   "outputs": [],
   "source": [
    "%matplotlib inline\n",
    "import matplotlib.pyplot as plt\n",
    "import numpy as np\n",
    "from numpy import pi as π\n",
    "import firedrake\n",
    "from firedrake import as_vector, inner, ds\n",
    "import icepack, icepack.plot, icepack.models"
   ]
  },
  {
   "cell_type": "markdown",
   "metadata": {},
   "source": [
    "# Synthetic ice shelf\n",
    "\n",
    "In this demo, we'll show how to simulate the evolution of a floating ice shelf.\n",
    "The example that we'll show is an example of a model *spin-up*.\n",
    "In a spin-up experiment, the objective is to obtain a physically plausible state of some system from an initial guess by simulating its evolution for a long time.\n",
    "For example, it's common to spin up climate models from a very rough initial guess for several thousand years to obtain a representative state of the atmosphere and oceans for the epoch you're interested in.\n",
    "\n",
    "In our case, we'll use an idealized ice shelf geometry and a rough guess for the initial ice thickness.\n",
    "First we'll solve the *diagnostic equation* for the velocity througout the ice shelf.\n",
    "We'll then solve the *prognostic equation* to obtain the ice thickness at a slightly later time.\n",
    "By assuming a given rate of ice accumulation and melting, we can successively solve the prognostic and diagnostic equations until the system is close to a steady state.\n",
    "In our case, that will take about 250 years of model time and (at least on my laptop) only a few minutes of computer time.\n",
    "\n",
    "The whole simulation can be divided into three parts:\n",
    "\n",
    "* Define the shape of the ice shelf and get a triangulation of the interior.\n",
    "* Define the initial guess for the ice thickness and velocity, and set a value of the rheology and accumulation rate.\n",
    "* Set the total simulation time and the number of time steps, and then iteratively update the ice thickness and velocity at each time step.\n",
    "\n",
    "This is a pretty common workflow for a predictive model.\n",
    "In later demos we'll see some variations on this procedure -- incorporating real data, comparing different physics, and so forth -- but the essential idea is the same throughout."
   ]
  },
  {
   "cell_type": "markdown",
   "metadata": {},
   "source": [
    "### Geometry\n",
    "\n",
    "First we need to define the geometry of the ice shelf.\n",
    "Although we'll be solving a synthetic problem, we'll try to use a more-or-less realistic shape.\n",
    "The inflow boundary will be a circular arc centered at the origin with a radius of 200 km.\n",
    "The outflow boundary will be another circular arc with a much higher radius.\n",
    "\n",
    "In the first demo, we used one of firedrake's built-in functions to create the geometry.\n",
    "For more complicated shapes you'll need to use a mesh generator, a program that turns a description of the boundary of a spatial domain into a triangulation of the interior.\n",
    "Two of the more popular 2D mesh generators are [gmsh](http://gmsh.info/) and [Triangle](https://www.cs.cmu.edu/~quake/triangle.html).\n",
    "In this case we'll use gmsh because we can create the input file entirely in Python through the package [pygmsh](https://github.com/nschloe/pygmsh).\n",
    "\n",
    "We'll first define the mesh radius and the spacing for the mesh cells."
   ]
  },
  {
   "cell_type": "code",
   "execution_count": null,
   "metadata": {},
   "outputs": [],
   "source": [
    "import pygmsh\n",
    "\n",
    "R = 200e3\n",
    "δx = 5e3"
   ]
  },
  {
   "cell_type": "markdown",
   "metadata": {},
   "source": [
    "Next, we'll create an empty geometry and add some points to it.\n",
    "The points `x1`, `x2` will represent the left and right endpoints of the mesh.\n",
    "The points `center1`, `center2` will not actually be contained in the mesh, but rather define the centers of the two circular arcs.\n",
    "Finally, we'll add the circular arcs."
   ]
  },
  {
   "cell_type": "code",
   "execution_count": null,
   "metadata": {},
   "outputs": [],
   "source": [
    "geometry = pygmsh.built_in.Geometry()\n",
    "\n",
    "x1 = geometry.add_point([-R, 0, 0], lcar=δx)\n",
    "x2 = geometry.add_point([+R, 0, 0], lcar=δx)\n",
    "\n",
    "center1 = geometry.add_point([0, 0, 0,], lcar=δx)\n",
    "center2 = geometry.add_point([0, -4 * R, 0], lcar=δx)\n",
    "\n",
    "arcs = [geometry.add_circle_arc(x1, center1, x2),\n",
    "        geometry.add_circle_arc(x2, center2, x1)]"
   ]
  },
  {
   "cell_type": "markdown",
   "metadata": {},
   "source": [
    "Now that we've added the geometric elements of our domain, we also need to tell gmsh about the topology, i.e. how all the arcs are connected to each other and how they're oriented.\n",
    "The physical lines and surfaces are added so that gmsh will tag each geometric entity with a number that we can use to set different boundary conditions."
   ]
  },
  {
   "cell_type": "code",
   "execution_count": null,
   "metadata": {},
   "outputs": [],
   "source": [
    "line_loop = geometry.add_line_loop(arcs)\n",
    "plane_surface = geometry.add_plane_surface(line_loop)\n",
    "\n",
    "physical_lines = [geometry.add_physical(arc) for arc in arcs]\n",
    "physical_surface = geometry.add_physical(plane_surface)"
   ]
  },
  {
   "cell_type": "markdown",
   "metadata": {},
   "source": [
    "This completes the definition of the input geometry.\n",
    "The method `get_code` of the geometry object returns the string describing it in the syntax that gmsh expects.\n",
    "We'll write this string out to a file with the extension `.geo`."
   ]
  },
  {
   "cell_type": "code",
   "execution_count": null,
   "metadata": {},
   "outputs": [],
   "source": [
    "with open('ice-shelf.geo', 'w') as geo_file:\n",
    "    geo_file.write(geometry.get_code())"
   ]
  },
  {
   "cell_type": "markdown",
   "metadata": {},
   "source": [
    "Next, we'll call gmsh from the command line on the input file we just created.\n",
    "The mesh generator will read the description of the domain boundary, triangulate the interior of the domain, and output a file with the extension `.msh`.\n",
    "Other mesh generators have different input and output formats, but the procedure is roughly the same.\n",
    "\n",
    "In a jupyter notebook, you can use an exclamation mark followed by a command to execute this command at the shell rather than in Python.\n",
    "We'll call `gmsh` from the command line with the following arguments:\n",
    "* `-2`: generate a 2D mesh as opposed to 3D\n",
    "* `-format msh2`: specify the storage format of the output file\n",
    "* `-o ice-shelf.msh`: name of the output file\n",
    "* `ice-shelf.geo`: the input data\n",
    "\n",
    "The shell command (without the exclamation mark) is what you would use if you were working directly from the command line rather than in a notebook."
   ]
  },
  {
   "cell_type": "code",
   "execution_count": null,
   "metadata": {},
   "outputs": [],
   "source": [
    "!gmsh -2 -format msh2 -o ice-shelf.msh ice-shelf.geo"
   ]
  },
  {
   "cell_type": "markdown",
   "metadata": {},
   "source": [
    "The terminal output from gmsh gives us some diagnostics like how many vertices and triangles it contains.\n",
    "This is also where gmsh will report if something went wrong -- a syntax error in the .geo file, a degenerate input geometry, and so forth."
   ]
  },
  {
   "cell_type": "markdown",
   "metadata": {},
   "source": [
    "To load the mesh we pass the filename to the function `firedrake.Mesh`.\n",
    "This function will determine the mesh format based on the file extension; it works for meshes that were generated by Triangle or other programs as well."
   ]
  },
  {
   "cell_type": "code",
   "execution_count": null,
   "metadata": {},
   "outputs": [],
   "source": [
    "mesh = firedrake.Mesh('ice-shelf.msh')"
   ]
  },
  {
   "cell_type": "markdown",
   "metadata": {},
   "source": [
    "The colors in the figure below show how gmsh tagged the calving terminus with ID 2 and the inflow boundary as 1.\n",
    "This is exactly analogous to how firedrake adds tags for each side of the square geometry that we used in the previous demo.\n",
    "These numeric tags help us define Dirichlet (inflow) and Neumann (terminus) boundary conditions where they apply."
   ]
  },
  {
   "cell_type": "code",
   "execution_count": null,
   "metadata": {},
   "outputs": [],
   "source": [
    "fig, axes = icepack.plot.subplots()\n",
    "icepack.plot.triplot(mesh)\n",
    "plt.show(fig)"
   ]
  },
  {
   "cell_type": "markdown",
   "metadata": {},
   "source": [
    "In the demos for real glaciers that follow, we use all of the same tools.\n",
    "The main difference is that the boundary arcs are drawn by hand in a geographic information system, rather than defined programatically in Python.\n",
    "In the repository [glacier-meshes](https://github.com/icepack/glacier-meshes) I've included shapefiles of the outlines of several glaciers and a program to automate the translation of a shapefile into a .geo file using pygmsh.\n",
    "This will be used in the demo for the Larsen Ice Shelf."
   ]
  },
  {
   "cell_type": "markdown",
   "metadata": {},
   "source": [
    "### Input data\n",
    "\n",
    "To mimic the state of a real ice shelf, we'll pick a few angles along the inflow boundary that represent the centerlines of the ice streams that feed the shelf.\n",
    "We'll then define velocity and thickness profiles along this inflow boundary.\n",
    "We don't have a great idea from the outset of what the steady state of the ice shelf is; it doesn't have a simple analytical expression in terms of the coordinates.\n",
    "Instead, we'll pick a somewhat arbitrary initial profile and evolve it towards steady state.\n",
    "\n",
    "Many ice shelves (Larsen, Ross, etc.) have several streams feeding them.\n",
    "Our synthetic glacier will be fed by four streams.\n",
    "We'll define the inlets by picking the angles around the inflow boundary where each inlet comes in from and the width in radians.\n",
    "You can re-run this notebook and change the values or the number of streams to whatever you like."
   ]
  },
  {
   "cell_type": "code",
   "execution_count": null,
   "metadata": {},
   "outputs": [],
   "source": [
    "inlet_angles = π * np.array([-3/4, -1/2, -1/3, -1/6])\n",
    "inlet_widths = π * np.array([1/8, 1/12, 1/24, 1/12])"
   ]
  },
  {
   "cell_type": "markdown",
   "metadata": {},
   "source": [
    "Next, we'll come up with some rather arbitrary and un-physical input data.\n",
    "The basic idea is to make the thickness slope down as you go towards the calving terminus and away from the centerline of an inlet.\n",
    "Likewise the ice speed goes up as you go towards the calving terminus.\n",
    "In order to make this big nasty algebraic expression, we'll create a list of the perturbation thickness and velocity for each inlet, and combine them all together at the end."
   ]
  },
  {
   "cell_type": "code",
   "execution_count": null,
   "metadata": {},
   "outputs": [],
   "source": [
    "x = firedrake.SpatialCoordinate(mesh)\n",
    "\n",
    "u_in = 300\n",
    "h_in = 350\n",
    "hb = 100\n",
    "dh, du = 400, 250\n",
    "\n",
    "hs, us = [], []\n",
    "for θ, ϕ in zip(inlet_angles, inlet_widths):\n",
    "    x0 = R * as_vector((np.cos(θ), np.sin(θ)))\n",
    "    v = -as_vector((np.cos(θ), np.sin(θ)))\n",
    "    L = inner(x - x0, v)\n",
    "    W = x - x0 - L * v\n",
    "    Rn = 2 * ϕ / π * R\n",
    "    q = firedrake.max_value(1 - (W / Rn)**2, 0)\n",
    "    hs.append(hb + q * ((h_in - hb) - dh * L /R))\n",
    "    us.append(firedrake.exp(-4 * (W/R)**2) * (u_in + du * L / R) * v)"
   ]
  },
  {
   "cell_type": "markdown",
   "metadata": {},
   "source": [
    "To combine the expressions for the thickness and velocity of each inlet into expressions for the whole ice shelf, we'll take the maximum thickness at any point, and the sum of the velocities."
   ]
  },
  {
   "cell_type": "code",
   "execution_count": null,
   "metadata": {},
   "outputs": [],
   "source": [
    "h_expr = firedrake.Constant(hb)\n",
    "for h in hs:\n",
    "    h_expr = firedrake.max_value(h, h_expr)\n",
    "    \n",
    "u_expr = sum(us)"
   ]
  },
  {
   "cell_type": "markdown",
   "metadata": {},
   "source": [
    "These are merely algebraic expressions.\n",
    "To start modeling we need to interpolate these expressions to some function spaces defined over the mesh."
   ]
  },
  {
   "cell_type": "code",
   "execution_count": null,
   "metadata": {},
   "outputs": [],
   "source": [
    "Q = firedrake.FunctionSpace(mesh, family='CG', degree=2)\n",
    "V = firedrake.VectorFunctionSpace(mesh, family='CG', degree=2)\n",
    "\n",
    "h0 = firedrake.interpolate(h_expr, Q)\n",
    "u0 = firedrake.interpolate(u_expr, V)"
   ]
  },
  {
   "cell_type": "markdown",
   "metadata": {},
   "source": [
    "The algebra might be a little opaque, but the plots of the initial data should be more illuminating."
   ]
  },
  {
   "cell_type": "code",
   "execution_count": null,
   "metadata": {},
   "outputs": [],
   "source": [
    "fig, axes = icepack.plot.subplots()\n",
    "axes.set_title('Thickness')\n",
    "contours = icepack.plot.tricontourf(h0, 40, axes=axes)\n",
    "fig.colorbar(contours)"
   ]
  },
  {
   "cell_type": "code",
   "execution_count": null,
   "metadata": {},
   "outputs": [],
   "source": [
    "fig, axes = icepack.plot.subplots()\n",
    "axes.set_title('Velocity')\n",
    "contours = icepack.plot.tricontourf(u0, 40, axes=axes)\n",
    "fig.colorbar(contours)"
   ]
  },
  {
   "cell_type": "markdown",
   "metadata": {},
   "source": [
    "As the simulation progresses, the ice streams, as represented by areas with higher thickness, will spread and grow."
   ]
  },
  {
   "cell_type": "markdown",
   "metadata": {},
   "source": [
    "### Modeling\n",
    "\n",
    "To actually start solving things, we'll make an `IceShelf` object that represents the physical model we're using.\n",
    "Each model type has two methods, `diagnostic_solve` and `prognostic_solve`, that solve the PDEs for the ice velocity and thickness."
   ]
  },
  {
   "cell_type": "code",
   "execution_count": null,
   "metadata": {},
   "outputs": [],
   "source": [
    "ice_shelf = icepack.models.IceShelf()\n",
    "help(ice_shelf.diagnostic_solve)"
   ]
  },
  {
   "cell_type": "markdown",
   "metadata": {},
   "source": [
    "For now we'll use a fluidity that assumes a spatially constant temperature of -18${}^\\circ$C.\n",
    "The code itself assumes that all temperatures are in Kelvin.\n",
    "In later demos, we'll use a spatially variable fluidity coefficient and show how to infer it from observations."
   ]
  },
  {
   "cell_type": "code",
   "execution_count": null,
   "metadata": {},
   "outputs": [],
   "source": [
    "T = firedrake.Constant(255.15)\n",
    "A = firedrake.interpolate(icepack.rate_factor(T), Q)"
   ]
  },
  {
   "cell_type": "markdown",
   "metadata": {},
   "source": [
    "Finally, we need to prescribe the boundary conditions for the velocity and the convergence tolerance for the nonlinear solver.\n",
    "Since the boundary conditions and convergence tolerance are usually the same throughout a simulation, we'll pack them into a dictionary call `opts` and reuse it throughout.\n",
    "\n",
    "To compute the velocity field, we call the diagnostic solve method of the ice shelf object.\n",
    "This function takes in the initial guess `u0` for the velocity, the thickness, the fluidity, and all the extra options we packed into `opts`."
   ]
  },
  {
   "cell_type": "code",
   "execution_count": null,
   "metadata": {},
   "outputs": [],
   "source": [
    "opts = {'dirichlet_ids': [1], 'tol': 1e-12}\n",
    "h = h0.copy(deepcopy=True)\n",
    "u = ice_shelf.diagnostic_solve(u0=u0, h=h, A=A, **opts)"
   ]
  },
  {
   "cell_type": "markdown",
   "metadata": {},
   "source": [
    "Here we passed all the arguments to `diagnostic_solve` as keywords.\n",
    "This convention will be used throughout all the demos.\n",
    "Passing arguments by keyword is slightly more verbose than passing them by position, but it saves you the trouble of remembering what order everything goes in.\n",
    "On top of that, many fields are *only* passed in as keyword arguments.\n",
    "For example, the fluidity parameter is not a positional argument of the diagnostic solve routine.\n",
    "The reason for this choice, as we'll see later, is that it's much easier to swap out components of the model physics for your own customized versions.\n",
    "\n",
    "The following plot shows streamlines of the velocity field.\n",
    "These kind of plots are useful for showing areas of convergence and divergence of the flow field."
   ]
  },
  {
   "cell_type": "code",
   "execution_count": null,
   "metadata": {},
   "outputs": [],
   "source": [
    "fig, axes = icepack.plot.subplots()\n",
    "streamlines = icepack.plot.streamplot(u, precision=1e3, density=2e3, axes=axes)\n",
    "fig.colorbar(streamlines, label='meters/year')\n",
    "plt.show(fig)"
   ]
  },
  {
   "cell_type": "markdown",
   "metadata": {},
   "source": [
    "To project the state of the ice shelf forward in time, we'll use the prognostic solve method.\n",
    "The prognostic solver updates the ice thickness forward by a given timestep given the accumulation rate and velocity.\n",
    "We then update the velocity using the diagnostic solver at each timestep.\n",
    "The following code runs the model forward for several years until the ice shelf is roughly in steady state."
   ]
  },
  {
   "cell_type": "code",
   "execution_count": null,
   "metadata": {},
   "outputs": [],
   "source": [
    "T = 250.0\n",
    "num_timesteps = 125\n",
    "dt = T / num_timesteps\n",
    "a = firedrake.Constant(0.0)\n",
    "\n",
    "for step in range(num_timesteps + 1):\n",
    "    h = ice_shelf.prognostic_solve(dt, h0=h, a=a, u=u, h_inflow=h0)\n",
    "    u = ice_shelf.diagnostic_solve(u0=u, h=h, A=A, **opts)\n",
    "    \n",
    "    print('.' if step % 10 == 0 else '', end='', flush=True)"
   ]
  },
  {
   "cell_type": "markdown",
   "metadata": {},
   "source": [
    "The main loop to run the simulation consists of alternating calls to the prognostic and diagnostic solve methods of the model object.\n",
    "We'll see this pattern repeated in all of the demos that follow.\n",
    "In some cases we'll add in extra physics, like updating the temperature or damage field, but the core idea is the same.\n",
    "\n",
    "We've added a bit of feedback to the loop by printing out a period every 10 iterations.\n",
    "These kinds of diagnostics are helpful to know that the simulation is actually running and that it hasn't frozen.\n",
    "But you can also put in whatever extra code you want here.\n",
    "For example, you might want to make plots of the thickness and velocity, print out some physical quantity like the total flux of ice out of the calving front, or accumulate the fields into a list so that you can analyze the entire time series later.\n",
    "\n",
    "To wrap things up, we'll make a plot of the final ice thickness and velocity.\n",
    "The initial thickness profile of each ice stream, which flattened out in the middle of the shelf, has extended all the way to the terminus."
   ]
  },
  {
   "cell_type": "code",
   "execution_count": null,
   "metadata": {},
   "outputs": [],
   "source": [
    "fig, axes = icepack.plot.subplots()\n",
    "contours = icepack.plot.tricontourf(h, 40, axes=axes)\n",
    "fig.colorbar(contours, label='meters')\n",
    "plt.show(fig)"
   ]
  },
  {
   "cell_type": "markdown",
   "metadata": {},
   "source": [
    "A stream plot of the ice velocity shows that the areas of greatest flow divergence have moved around relative to the initial velocity."
   ]
  },
  {
   "cell_type": "code",
   "execution_count": null,
   "metadata": {},
   "outputs": [],
   "source": [
    "fig, axes = icepack.plot.subplots()\n",
    "streamlines = icepack.plot.streamplot(u, precision=1e3, density=2e3, axes=axes)\n",
    "fig.colorbar(streamlines, label='meters/year')\n",
    "plt.show(fig)"
   ]
  },
  {
   "cell_type": "markdown",
   "metadata": {},
   "source": [
    "A useful quantity to know is how much ice is moving through the system.\n",
    "In the previous demo, we showed how to symbolically create functionals of the solution.\n",
    "We can use this to calculate the total ice flux through the calving terminus."
   ]
  },
  {
   "cell_type": "code",
   "execution_count": null,
   "metadata": {},
   "outputs": [],
   "source": [
    "ν = firedrake.FacetNormal(mesh)\n",
    "flux = h * inner(u, ν) * ds(2)"
   ]
  },
  {
   "cell_type": "markdown",
   "metadata": {},
   "source": [
    "The extra argument to `ds` indicates that we want to integrate over just the calving terminus rather than over the entire domain boundary.\n",
    "The variable `flux` is a symbolic representation of this quantity in terms of the input fields; it isn't a number but rather a description of how to compute a number.\n",
    "The function `firedrake.assemble` does the actual work of evaluating the integral."
   ]
  },
  {
   "cell_type": "code",
   "execution_count": null,
   "metadata": {},
   "outputs": [],
   "source": [
    "print('Flux: {} km^3 / year'.format(firedrake.assemble(flux) / 1e9))"
   ]
  },
  {
   "cell_type": "markdown",
   "metadata": {},
   "source": [
    "To check the degree to which the system really is in steady state, we can compute the flux along the inflow boundary rather than along the terminus.\n",
    "This should be equal to the flux out of the domain since we've set the accumulation rate to be zero."
   ]
  },
  {
   "cell_type": "code",
   "execution_count": null,
   "metadata": {},
   "outputs": [],
   "source": [
    "influx = -h * inner(u, ν) * ds(1)\n",
    "print('Influx: {} km^3 / year'.format(firedrake.assemble(influx) / 1e9))"
   ]
  },
  {
   "cell_type": "markdown",
   "metadata": {},
   "source": [
    "The influx and outflux are reasonably close, with the influx slightly exceeding the outflux.\n",
    "The ice shelf will thicken, increasing the flux out of the terminus, until the two values equilibrate.\n",
    "If you want to experiment with this example a bit more, you can increase the final time $T$ and then compare the fluxes."
   ]
  },
  {
   "cell_type": "markdown",
   "metadata": {},
   "source": [
    "### Conclusion\n",
    "\n",
    "In the last demo, we saw how to create a mesh, define a finite element space, interpolate functions to that finite element space, and analyze the results through either plotting or more general post-processing.\n",
    "Here we've shown how to use these functions as an input to an ice shelf flow model.\n",
    "There are a lot of interesting experiments you can do with synthetic ice shelves.\n",
    "For example, you can approximate the effect of seasonality by making the accumulation rate and inflow thickness a sinusoidal function of time.\n",
    "You can then add things like tidal effects and see how they alter the overall ice flow.\n",
    "In the next demo, we'll show how to use these functions for simulating a real ice shelf using observational data."
   ]
  }
 ],
 "metadata": {
  "kernelspec": {
   "display_name": "firedrake",
   "language": "python",
   "name": "firedrake"
  },
  "language_info": {
   "name": "python",
   "pygments_lexer": "ipython3"
  }
 },
 "nbformat": 4,
 "nbformat_minor": 2
}
