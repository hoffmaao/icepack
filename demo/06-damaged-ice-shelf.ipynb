{
 "cells": [
  {
   "cell_type": "code",
   "execution_count": null,
   "metadata": {},
   "outputs": [],
   "source": [
    "%matplotlib inline\n",
    "import matplotlib.pyplot as plt\n",
    "import numpy as np\n",
    "from numpy import pi as π\n",
    "import firedrake\n",
    "from firedrake import as_vector, inner, ds\n",
    "import icepack, icepack.plot, icepack.models"
   ]
  },
  {
   "cell_type": "markdown",
   "metadata": {},
   "source": [
    "# Damaged ice shelf\n",
    "\n",
    "In this demo, we'll show how to simulate the evolution of a damaged floating ice shelf by making the enhancement factor dependent on a distributed damage field.\n",
    "Again, in the spin-up experiment, the objective is to obtain a physically plausible state of some system from an initial guess by simulating its evolution for a long time.\n",
    "\n",
    "We will again use the same idealized ice shelf geometry from the second tutorial along with the same rough guess for the initial ice thickness, velocity, and assume the shelf is initially undamaged.\n",
    "First we'll solve the *diagnostic equation* for the velocity througout the ice shelf. We'll then solve the *prognostic equation* to evolve the damage to steady state.\n",
    "\n",
    "The whole simulation can be divided into three parts:\n",
    "\n",
    "* Define the shape of the ice shelf and get a triangulation of the interior.\n",
    "* Define the initial guess for the ice thickness and velocity, and set a value of the rheology and accumulation rate.\n",
    "* Set the total simulation time and the number of time steps, and then iteratively update the ice thickness, velocity, and damage at each time step.\n"
   ]
  },
  {
   "cell_type": "markdown",
   "metadata": {},
   "source": [
    "### Geometry\n",
    "\n",
    "First we define the geometry of the ice shelf. The inflow boundary will again be a circular arc centered at the origin with a radius of 200 km. The outflow boundary will be another circular arc with a much higher radius.\n"
   ]
  },
  {
   "cell_type": "code",
   "execution_count": null,
   "metadata": {},
   "outputs": [],
   "source": [
    "import pygmsh\n",
    "\n",
    "R = 200e3\n",
    "δx = 5e3\n",
    "geometry = pygmsh.built_in.Geometry()\n",
    "x1 = geometry.add_point([-R, 0, 0], lcar=δx)\n",
    "x2 = geometry.add_point([+R, 0, 0], lcar=δx)\n",
    "\n",
    "center1 = geometry.add_point([0, 0, 0,], lcar=δx)\n",
    "center2 = geometry.add_point([0, -4 * R, 0], lcar=δx)\n",
    "\n",
    "arcs = [geometry.add_circle_arc(x1, center1, x2),\n",
    "        geometry.add_circle_arc(x2, center2, x1)]"
   ]
  },
  {
   "cell_type": "code",
   "execution_count": null,
   "metadata": {},
   "outputs": [],
   "source": [
    "line_loop = geometry.add_line_loop(arcs)\n",
    "plane_surface = geometry.add_plane_surface(line_loop)\n",
    "\n",
    "physical_lines = [geometry.add_physical(arc) for arc in arcs]\n",
    "physical_surface = geometry.add_physical(plane_surface)"
   ]
  },
  {
   "cell_type": "code",
   "execution_count": null,
   "metadata": {},
   "outputs": [],
   "source": [
    "with open('ice-shelf.geo', 'w') as geo_file:\n",
    "    geo_file.write(geometry.get_code())"
   ]
  },
  {
   "cell_type": "markdown",
   "metadata": {},
   "source": [
    "The terminal output from gmsh gives us some diagnostics like how many vertices and triangles it contains. To model advected damage problem, we've created a much higher resolution mesh."
   ]
  },
  {
   "cell_type": "code",
   "execution_count": null,
   "metadata": {},
   "outputs": [],
   "source": [
    "!gmsh ice-shelf.geo -2"
   ]
  },
  {
   "cell_type": "code",
   "execution_count": null,
   "metadata": {},
   "outputs": [],
   "source": [
    "mesh = firedrake.Mesh('ice-shelf.msh')"
   ]
  },
  {
   "cell_type": "code",
   "execution_count": null,
   "metadata": {},
   "outputs": [],
   "source": [
    "fig, axes = icepack.plot.subplots()\n",
    "icepack.plot.triplot(mesh)\n",
    "plt.show(fig)"
   ]
  },
  {
   "cell_type": "markdown",
   "metadata": {},
   "source": [
    "In the demos for real glaciers that follow, we use all of the same tools.\n",
    "The main difference is that the boundary arcs are drawn by hand in a geographic information system, rather than defined programatically in Python.\n",
    "In the repository [glacier-meshes](https://github.com/icepack/glacier-meshes) I've included shapefiles of the outlines of several glaciers and a program to automate the translation of a shapefile into a .geo file using pygmsh.\n",
    "This will be used in the demo for the Larsen Ice Shelf."
   ]
  },
  {
   "cell_type": "markdown",
   "metadata": {},
   "source": [
    "### Input data\n",
    "\n",
    "To mimic the state of a real ice shelf, we'll pick a few angles along the inflow boundary that represent the centerlines of the ice streams that feed the shelf.\n",
    "We'll then define velocity and thickness profiles along this inflow boundary.\n",
    "We don't have a great idea from the outset of what the steady state of the ice shelf is; it doesn't have a simple analytical expression in terms of the coordinates.\n",
    "Instead, we'll pick a somewhat arbitrary initial profile and evolve it towards steady state.\n",
    "\n",
    "Many ice shelves (Larsen, Ross, etc.) have several streams feeding them.\n",
    "Our synthetic glacier will be fed by four streams.\n",
    "We'll define the inlets by picking the angles around the inflow boundary where each inlet comes in from and the width in radians.\n",
    "You can re-run this notebook and change the values or the number of streams to whatever you like."
   ]
  },
  {
   "cell_type": "code",
   "execution_count": null,
   "metadata": {},
   "outputs": [],
   "source": [
    "inlet_angles = π * np.array([-3/4, -1/2, -1/3, -1/6])\n",
    "inlet_widths = π * np.array([1/8, 1/12, 1/24, 1/12])"
   ]
  },
  {
   "cell_type": "markdown",
   "metadata": {},
   "source": [
    "Next, we'll come up with some rather arbitrary and un-physical input data.\n",
    "The basic idea is to make the thickness slope down as you go towards the calving terminus and away from the centerline of an inlet.\n",
    "Likewise the ice speed goes up as you go towards the calving terminus.\n",
    "In order to make this big nasty algebraic expression, we'll create a list of the perturbation thickness and velocity for each inlet, and combine them all together at the end."
   ]
  },
  {
   "cell_type": "code",
   "execution_count": null,
   "metadata": {},
   "outputs": [],
   "source": [
    "x = firedrake.SpatialCoordinate(mesh)\n",
    "\n",
    "u_in = 300\n",
    "h_in = 350\n",
    "hb = 100\n",
    "dh, du = 400, 250\n",
    "\n",
    "hs, us = [], []\n",
    "for θ, ϕ in zip(inlet_angles, inlet_widths):\n",
    "    x0 = R * as_vector((np.cos(θ), np.sin(θ)))\n",
    "    v = -as_vector((np.cos(θ), np.sin(θ)))\n",
    "    L = inner(x - x0, v)\n",
    "    W = x - x0 - L * v\n",
    "    Rn = 2 * ϕ / π * R\n",
    "    q = firedrake.max_value(1 - (W / Rn)**2, 0)\n",
    "    hs.append(hb + q * ((h_in - hb) - dh * L /R))\n",
    "    us.append(firedrake.exp(-4 * (W/R)**2) * (u_in + du * L / R) * v)"
   ]
  },
  {
   "cell_type": "markdown",
   "metadata": {},
   "source": [
    "To combine the expressions for the thickness and velocity of each inlet into expressions for the whole ice shelf, we'll take the maximum thickness at any point, and the sum of the velocities."
   ]
  },
  {
   "cell_type": "code",
   "execution_count": null,
   "metadata": {},
   "outputs": [],
   "source": [
    "h_expr = firedrake.Constant(hb)\n",
    "for h in hs:\n",
    "    h_expr = firedrake.max_value(h, h_expr)\n",
    "    \n",
    "u_expr = sum(us)"
   ]
  },
  {
   "cell_type": "markdown",
   "metadata": {},
   "source": [
    "These are merely algebraic expressions.\n",
    "To start modeling we need to interpolate these expressions to some function spaces defined over the mesh just as we did in the first ice shelf example."
   ]
  },
  {
   "cell_type": "code",
   "execution_count": null,
   "metadata": {},
   "outputs": [],
   "source": [
    "Q = firedrake.FunctionSpace(mesh, family='CG', degree=2)\n",
    "V = firedrake.VectorFunctionSpace(mesh, family='CG', degree=2)\n",
    "D= firedrake.interpolate(firedrake.Constant(0.0), Q)\n",
    "h0 = firedrake.interpolate(h_expr, Q)\n",
    "u0 = firedrake.interpolate(u_expr, V)"
   ]
  },
  {
   "cell_type": "code",
   "execution_count": null,
   "metadata": {},
   "outputs": [],
   "source": [
    "fig, axes = icepack.plot.subplots()\n",
    "axes.set_title('Thickness')\n",
    "contours = icepack.plot.tricontourf(h0, 40, axes=axes)\n",
    "fig.colorbar(contours)"
   ]
  },
  {
   "cell_type": "code",
   "execution_count": null,
   "metadata": {},
   "outputs": [],
   "source": [
    "fig, axes = icepack.plot.subplots()\n",
    "axes.set_title('Velocity')\n",
    "contours = icepack.plot.tricontourf(u0, 40, axes=axes)\n",
    "fig.colorbar(contours)"
   ]
  },
  {
   "cell_type": "markdown",
   "metadata": {},
   "source": [
    "As the simulation progresses, the ice streams, as represented by areas with higher thickness, will spread and grow."
   ]
  },
  {
   "cell_type": "markdown",
   "metadata": {},
   "source": [
    "### Modeling\n",
    "Damage affects the horizontal velocities of an ice shelf via the effective fluidity of the ice column. As ice becomes more damaged, the strength of the bulk material becomes compromised and spreads more quickly. Following the work of Levermann et al. (2012) we define the damaged-rate factor to be:\n",
    "\n",
    "$A_D = A_0(\\frac{1}{(1-D)})^n$\n",
    "\n",
    "where $D$ is the distributed damage field with values between 0 (undamaged) and 1 (completely damaged). To evolve the damage field in our prognostic model we call the damage_tranport solver, which  advects, sources and sinks damage to evolve the bulk fluidity of the ice towards steady state."
   ]
  },
  {
   "cell_type": "code",
   "execution_count": null,
   "metadata": {},
   "outputs": [],
   "source": [
    "Temp = 260\n",
    "ε = 0.001\n",
    "A = firedrake.interpolate(firedrake.Constant(icepack.rate_factor(Temp)), Q)\n",
    "n=icepack.constants.glen_flow_law\n",
    "def damaged_fluidity(u, h, A0, D):\n",
    "    eps=(1/(1-(1-ε)*D))**n\n",
    "    A = A0 * eps\n",
    "    return icepack.models.viscosity.viscosity_depth_averaged(u, h, A)\n"
   ]
  },
  {
   "cell_type": "code",
   "execution_count": null,
   "metadata": {},
   "outputs": [],
   "source": [
    "ice_shelf = icepack.models.IceShelf(viscosity=damaged_fluidity)\n",
    "help(ice_shelf.diagnostic_solve)"
   ]
  },
  {
   "cell_type": "markdown",
   "metadata": {},
   "source": [
    "For now we'll use a fluidity that assumes a spatially constant temperature of -18${}^\\circ$C.\n",
    "The code itself assumes that all temperatures are in Kelvin.\n",
    "In later demos, we'll use a spatially variable fluidity coefficient and show how to infer it from observations."
   ]
  },
  {
   "cell_type": "markdown",
   "metadata": {},
   "source": [
    "Finally, we need to prescribe the boundary conditions for the velocity and the convergence tolerance for the nonlinear solver.\n",
    "Since the boundary conditions and convergence tolerance are usually the same throughout a simulation, we'll pack them into a dictionary call `opts` and reuse it throughout.\n",
    "\n",
    "To compute the velocity field, we call the diagnostic solve method of the ice shelf object.\n",
    "This function takes in the initial guess `u0` for the velocity, the thickness, the fluidity, and all the extra options we packed into `opts`."
   ]
  },
  {
   "cell_type": "code",
   "execution_count": null,
   "metadata": {},
   "outputs": [],
   "source": [
    "opts = {'dirichlet_ids': [1], 'tol': 1e-12}\n",
    "h = h0.copy(deepcopy=True)\n",
    "u = ice_shelf.diagnostic_solve(u0=u0, h=h,A0=A,D=D, **opts)"
   ]
  },
  {
   "cell_type": "markdown",
   "metadata": {},
   "source": [
    "Here we passed all the arguments to `diagnostic_solve` as keywords.\n",
    "This convention will be used throughout all the demos.\n",
    "Passing arguments by keyword is slightly more verbose than passing them by position, but it saves you the trouble of remembering what order everything goes in.\n",
    "On top of that, many fields are *only* passed in as keyword arguments.\n",
    "For example, the fluidity parameter is not a positional argument of the diagnostic solve routine.\n",
    "The reason for this choice, as we'll see later, is that it's much easier to swap out components of the model physics for your own customized versions.\n",
    "\n",
    "The following plot shows streamlines of the velocity field.\n",
    "These kind of plots are useful for showing areas of convergence and divergence of the flow field."
   ]
  },
  {
   "cell_type": "code",
   "execution_count": null,
   "metadata": {},
   "outputs": [],
   "source": [
    "fig, axes = icepack.plot.subplots()\n",
    "axes.set_title('Velocity')\n",
    "ud=u\n",
    "contours = icepack.plot.tricontourf(u, 40, axes=axes)\n",
    "fig.colorbar(contours)"
   ]
  },
  {
   "cell_type": "markdown",
   "metadata": {},
   "source": [
    "To project the state of the ice shelf forward in time, we'll use the prognostic solve method.\n",
    "The prognostic solver updates the ice thickness forward by a given timestep given the accumulation rate and velocity.\n",
    "We then update the velocity using the diagnostic solver at each timestep, and use the updated velocities to advect, source and sink distributed damage. The following code runs the model forward for several years until the ice shelf is roughly in steady state."
   ]
  },
  {
   "cell_type": "code",
   "execution_count": null,
   "metadata": {},
   "outputs": [],
   "source": [
    "T = 250\n",
    "num_timesteps = 250\n",
    "dt = T / num_timesteps\n",
    "a = firedrake.Constant(0.0)\n",
    "D_inflow=firedrake.Constant(0.0,Q)\n",
    "\n",
    "for step in range(num_timesteps + 1):\n",
    "    h = ice_shelf.prognostic_solve(dt, h0=h, a=a, u=u, h_inflow=h0)\n",
    "    D = ice_shelf.damage_transport.solve(dt,D0=D,u=u,A=A,D_max=1.0,D_inflow=D_inflow)\n",
    "    u = ice_shelf.diagnostic_solve(u0=u, h=h,A0=A,D=D, **opts)    \n",
    "    print('.' if step % 25 == 0 else '', end='', flush=True)"
   ]
  },
  {
   "cell_type": "markdown",
   "metadata": {},
   "source": [
    "The main loop to run the simulation consists of alternating calls to the prognostic and diagnostic solve methods of the model object with a new feedback between velocity and damage that also affects the steady state thickness. We can visualize the damage field and plot the difference between the steady state velocity with and without damage evolution."
   ]
  },
  {
   "cell_type": "code",
   "execution_count": null,
   "metadata": {},
   "outputs": [],
   "source": [
    "step"
   ]
  },
  {
   "cell_type": "code",
   "execution_count": null,
   "metadata": {},
   "outputs": [],
   "source": [
    "fig, axes = icepack.plot.subplots()\n",
    "contours = icepack.plot.tricontourf(D, 40, axes=axes)\n",
    "fig.colorbar(contours, label='damage')\n",
    "plt.show(fig)"
   ]
  },
  {
   "cell_type": "markdown",
   "metadata": {},
   "source": [
    "A stream plot of the ice velocity shows that the areas of greatest flow divergence have moved around relative to the initial velocity."
   ]
  },
  {
   "cell_type": "code",
   "execution_count": null,
   "metadata": {},
   "outputs": [],
   "source": [
    "up=firedrake.interpolate(ud-u,V)\n",
    "fig, axes = icepack.plot.subplots()\n",
    "axes.set_title('Velocity')\n",
    "contours = icepack.plot.tricontourf(up, 40, axes=axes)\n",
    "fig.colorbar(contours)"
   ]
  },
  {
   "cell_type": "markdown",
   "metadata": {},
   "source": [
    "A useful quantity to know is how much ice is moving through the system.\n",
    "In the previous demo, we showed how to symbolically create functionals of the solution.\n",
    "We can use this to calculate the total ice flux through the calving terminus."
   ]
  },
  {
   "cell_type": "code",
   "execution_count": null,
   "metadata": {},
   "outputs": [],
   "source": [
    "ν = firedrake.FacetNormal(mesh)\n",
    "flux = h * inner(u, ν) * ds(2)"
   ]
  },
  {
   "cell_type": "markdown",
   "metadata": {},
   "source": [
    "The extra argument to `ds` indicates that we want to integrate over just the calving terminus rather than over the entire domain boundary.\n",
    "The variable `flux` is a symbolic representation of this quantity in terms of the input fields; it isn't a number but rather a description of how to compute a number.\n",
    "The function `firedrake.assemble` does the actual work of evaluating the integral."
   ]
  },
  {
   "cell_type": "code",
   "execution_count": null,
   "metadata": {},
   "outputs": [],
   "source": [
    "print('Flux: {} km^3 / year'.format(firedrake.assemble(flux) / 1e9))"
   ]
  },
  {
   "cell_type": "markdown",
   "metadata": {},
   "source": [
    "To check the degree to which the system really is in steady state, we can compute the flux along the inflow boundary rather than along the terminus.\n",
    "This should be equal to the flux out of the domain since we've set the accumulation rate to be zero."
   ]
  },
  {
   "cell_type": "code",
   "execution_count": null,
   "metadata": {},
   "outputs": [],
   "source": [
    "influx = -h * inner(u, ν) * ds(1)\n",
    "print('Influx: {} km^3 / year'.format(firedrake.assemble(influx) / 1e9))"
   ]
  },
  {
   "cell_type": "markdown",
   "metadata": {},
   "source": [
    "The influx and outflux are reasonably close, with the influx slightly exceeding the outflux.\n",
    "The ice shelf will thicken, increasing the flux out of the terminus, until the two values equilibrate.\n",
    "If you want to experiment with this example a bit more, you can increase the final time $T$ and then compare the fluxes."
   ]
  },
  {
   "cell_type": "markdown",
   "metadata": {},
   "source": [
    "### Conclusion\n",
    "\n",
    "In the last demo, we saw how to create a mesh, define a finite element space, interpolate functions to that finite element space, and analyze the results through either plotting or more general post-processing.\n",
    "Here we've shown how to use these functions as an input to an ice shelf flow model.\n",
    "There are a lot of interesting experiments you can do with synthetic ice shelves.\n",
    "For example, you can approximate the effect of seasonality by making the accumulation rate and inflow thickness a sinusoidal function of time.\n",
    "You can then add things like tidal effects and see how they alter the overall ice flow.\n",
    "In the next demo, we'll show how to use these functions for simulating a real ice shelf using observational data."
   ]
  }
 ],
 "metadata": {
  "kernelspec": {
   "display_name": "firedrake",
   "language": "python",
   "name": "firedrake"
  },
  "language_info": {
   "name": "python",
   "pygments_lexer": "ipython3"
  }
 },
 "nbformat": 4,
 "nbformat_minor": 2
}
