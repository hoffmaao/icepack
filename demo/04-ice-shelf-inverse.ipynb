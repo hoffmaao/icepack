{
 "cells": [
  {
   "cell_type": "code",
   "execution_count": null,
   "metadata": {},
   "outputs": [],
   "source": [
    "%matplotlib inline\n",
    "import os\n",
    "import matplotlib.pyplot as plt\n",
    "import numpy as np\n",
    "import rasterio\n",
    "import geojson\n",
    "import firedrake\n",
    "import icepack, icepack.plot, icepack.models"
   ]
  },
  {
   "cell_type": "markdown",
   "metadata": {},
   "source": [
    "# Inverse problems\n",
    "\n",
    "In this demo, we'll revisit the Larsen Ice Shelf.\n",
    "This time, we're going to estimate the fluidity coefficient $A$ in Glen's flow law\n",
    "\n",
    "$$\\dot\\varepsilon = A\\tau^3$$\n",
    "\n",
    "from observational data.\n",
    "In the previous demos, we've come up with some value of the fluidity coefficient and computed a velocity field by solving an elliptic partial differential equation.\n",
    "The fluidity coefficient is roughly a known function of the ice temperature, together with some fudge factors for crystal fabric or large-scale damage, so we know an approximate range of values that it could take.\n",
    "Nonetheless, we don't have large-scale measurements of the fluidity coefficient from remote sensing like we do for ice velocity and thickness.\n",
    "\n",
    "Instead, we can try to come up with a value of $A$ that gives a velocity field closest to what we observed.\n",
    "This idea can be turned into a constrained optimization problem.\n",
    "The quantity we wish to optimize is the misfit between the computed velocity $u$ and the observed velocity $u^o$:\n",
    "\n",
    "$$E(u) = \\frac{1}{2}\\int_\\Omega\\left(\\frac{u - u^o}{\\sigma}\\right)^2dx,$$\n",
    "\n",
    "where $\\sigma$ are the standard deviations of the measurements.\n",
    "\n",
    "One constraint is that the fluidity field has to be positive.\n",
    "Inequality constraints can require substantially more sophisticated numerical methods.\n",
    "To avoid this problem, we'll cheat our way out by reparameterizing $A$ in terms of a new variable $\\theta$:\n",
    "\n",
    "$$A = A_0e^{-\\theta/n},$$\n",
    "\n",
    "where $n$ is the Glen flow law exponent.\n",
    "No matter the value of $\\theta$, $A$ is always positive.\n",
    "To make this change, we'll give the `IceShelf` object our own custom-made function for calculating the viscous part of the action functional, just like we did for the friction in the last demo.\n",
    "\n",
    "In addition to minimizing the misfit, we also want to have a relatively smooth value of the parameter field $\\theta$.\n",
    "The regularization functional $R$ is included to penalize oscillations over a given length scale $L$:\n",
    "\n",
    "$$R(\\theta) = \\frac{L^2}{2}\\int_\\Omega|\\nabla \\theta|^2dx.$$\n",
    "\n",
    "Finally, let $F(u, \\theta)$ be the weak form of the shallow shelf equations, again using the new parameter $\\theta$ instead of the fluidity $A$.\n",
    "The physics constraint for our problem is that $F(u, \\theta) = 0$.\n",
    "We can enforce this constraint by introducing the Lagrange multiplier $\\lambda$, in which case the combined objective functional is\n",
    "\n",
    "$$J(u, \\theta; \\lambda) = E(u) + R(\\theta) + \\langle F(u, \\theta), \\lambda\\rangle.$$\n",
    "\n",
    "We can calculate the derivative of this functional with respect to $\\theta$ by using the *adjoint method*.\n",
    "We can then use a descent method to iterate towards a critical point, which is hopefully close to the true value of the fluidity coefficient."
   ]
  },
  {
   "cell_type": "markdown",
   "metadata": {},
   "source": [
    "### Input data\n",
    "\n",
    "The input data are just as in the previous demo for the Larsen Ice Shelf, but we also need to use the error estimates for the velocities."
   ]
  },
  {
   "cell_type": "code",
   "execution_count": null,
   "metadata": {},
   "outputs": [],
   "source": [
    "import data\n",
    "import meshing\n",
    "outline_filename = data.fetch_larsen_outline()\n",
    "with open(outline_filename, 'r') as outline_file:\n",
    "    outline = geojson.load(outline_file)\n",
    "    \n",
    "geometry = meshing.collection_to_geo(outline)\n",
    "with open('larsen.geo', 'w') as geo_file:\n",
    "    geo_file.write(geometry.get_code())"
   ]
  },
  {
   "cell_type": "code",
   "execution_count": null,
   "metadata": {},
   "outputs": [],
   "source": [
    "!gmsh -2 -format msh2 -v 2 -o larsen.msh larsen.geo"
   ]
  },
  {
   "cell_type": "code",
   "execution_count": null,
   "metadata": {},
   "outputs": [],
   "source": [
    "mesh = firedrake.Mesh('larsen.msh')"
   ]
  },
  {
   "cell_type": "code",
   "execution_count": null,
   "metadata": {},
   "outputs": [],
   "source": [
    "features = [feature['geometry'] for feature in outline['features']]\n",
    "xmin, ymin, xmax, ymax = np.inf, np.inf, -np.inf, -np.inf\n",
    "δ = 50e3\n",
    "for feature in outline['features']:\n",
    "    for line_string in feature['geometry']['coordinates']:\n",
    "        xs = np.array(line_string)\n",
    "        x, y = xs[:, 0], xs[:, 1]\n",
    "        xmin, ymin = min(xmin, x.min() - δ), min(ymin, y.min() - δ)\n",
    "        xmax, ymax = max(xmax, x.max() + δ), max(ymax, y.max() + δ)\n",
    "        \n",
    "image_filename = data.fetch_mosaic_of_antarctica()\n",
    "with rasterio.open(image_filename, 'r') as image_file:\n",
    "    height, width = image_file.height, image_file.width\n",
    "    transform = image_file.transform\n",
    "    window = rasterio.windows.from_bounds(left=xmin, bottom=ymin, right=xmax, top=ymax,\n",
    "                                          width=width, height=height, transform=transform)\n",
    "    image = image_file.read(indexes=1, window=window, masked=True)\n",
    "\n",
    "def subplots(*args, **kwargs):\n",
    "    fig, axes = icepack.plot.subplots()\n",
    "    xmin, ymin, xmax, ymax = rasterio.windows.bounds(window, transform)\n",
    "    axes.imshow(image, extent=(xmin, xmax, ymin, ymax),\n",
    "                cmap='Greys_r', vmin=12e3, vmax=16.38e3)\n",
    "    \n",
    "    return fig, axes"
   ]
  },
  {
   "cell_type": "code",
   "execution_count": null,
   "metadata": {},
   "outputs": [],
   "source": [
    "fig, axes = subplots()\n",
    "axes.set_xlabel('meters')\n",
    "icepack.plot.triplot(mesh, axes=axes, linewidth=1, bnd_linewidth=2)\n",
    "plt.show(fig)"
   ]
  },
  {
   "cell_type": "code",
   "execution_count": null,
   "metadata": {},
   "outputs": [],
   "source": [
    "thickness_filename = [f for f in data.fetch_bedmap2() if\n",
    "                      os.path.basename(f) == 'bedmap2_thickness.tif'][0]\n",
    "velocity_filename = data.fetch_measures_antarctica()\n",
    "\n",
    "thickness = rasterio.open(thickness_filename, 'r')\n",
    "vx = rasterio.open('netcdf:' + velocity_filename + ':VX', 'r')\n",
    "vy = rasterio.open('netcdf:' + velocity_filename + ':VY', 'r')\n",
    "stdx = rasterio.open('netcdf:' + velocity_filename + ':STDX', 'r')\n",
    "stdy = rasterio.open('netcdf:' + velocity_filename + ':STDY', 'r')"
   ]
  },
  {
   "cell_type": "code",
   "execution_count": null,
   "metadata": {},
   "outputs": [],
   "source": [
    "degree = 2\n",
    "Q = firedrake.FunctionSpace(mesh, family='CG', degree=degree)\n",
    "V = firedrake.VectorFunctionSpace(mesh, family='CG', degree=degree)\n",
    "\n",
    "h = icepack.interpolate(thickness, Q)\n",
    "u_obs = icepack.interpolate((vx, vy), V)\n",
    "σx = icepack.interpolate(stdx, Q)\n",
    "σy = icepack.interpolate(stdy, Q)"
   ]
  },
  {
   "cell_type": "markdown",
   "metadata": {},
   "source": [
    "Here we'll plot the velocity errors.\n",
    "You can see from the stripey pattern that they depend on the particular swath from the observational platform."
   ]
  },
  {
   "cell_type": "code",
   "execution_count": null,
   "metadata": {},
   "outputs": [],
   "source": [
    "σ = firedrake.interpolate(firedrake.sqrt(σx**2 + σy**2), Q)\n",
    "fig, axes = subplots()\n",
    "contours = icepack.plot.tricontourf(σ, 20, alpha=0.9, axes=axes)\n",
    "fig.colorbar(contours)\n",
    "plt.show(fig)"
   ]
  },
  {
   "cell_type": "markdown",
   "metadata": {},
   "source": [
    "We need to make an initial guess for the fluidity parameter.\n",
    "In this case, we'll use the same value as in the second demo -- a constant fluidity assuming a temperature of $-13^\\circ$C."
   ]
  },
  {
   "cell_type": "code",
   "execution_count": null,
   "metadata": {},
   "outputs": [],
   "source": [
    "T0 = 260\n",
    "A0 = icepack.rate_factor(T0)\n",
    "from icepack.constants import glen_flow_law as n\n",
    "def viscosity(u, h, θ):\n",
    "    A = A0 * firedrake.exp(-θ / n)\n",
    "    return icepack.models.viscosity.viscosity_depth_averaged(u, h, A)\n",
    "\n",
    "θ = firedrake.Function(Q)\n",
    "\n",
    "ice_shelf = icepack.models.IceShelf(viscosity=viscosity)\n",
    "opts = {'dirichlet_ids': [2, 4, 5, 6, 7, 8, 9], 'tol': 1e-6}\n",
    "u = ice_shelf.diagnostic_solve(u0=u_obs, h=h, θ=θ, **opts)"
   ]
  },
  {
   "cell_type": "code",
   "execution_count": null,
   "metadata": {},
   "outputs": [],
   "source": [
    "fig, axes = subplots()\n",
    "contours = icepack.plot.tricontourf(u, 20, alpha=0.6, axes=axes)\n",
    "fig.colorbar(contours)\n",
    "plt.show(fig)"
   ]
  },
  {
   "cell_type": "markdown",
   "metadata": {},
   "source": [
    "### Inferring the fluidity\n",
    "\n",
    "There are four parts that go into an inverse problem:\n",
    "\n",
    "* a physics model\n",
    "* an initial guess for the parameter and state\n",
    "* an error metric\n",
    "* a smoothness metric\n",
    "\n",
    "We already have the physics model and some initial guesses.\n",
    "The next step is to write a pair of Python functions that will create the model-data misfit functional and the regularization functional.\n",
    "We'll pass these functions to the inverse problem when we create it."
   ]
  },
  {
   "cell_type": "code",
   "execution_count": null,
   "metadata": {},
   "outputs": [],
   "source": [
    "from firedrake import inner, grad, dx\n",
    "import icepack.inverse\n",
    "\n",
    "def objective(u):\n",
    "    return 0.5 * (((u[0] - u_obs[0]) / σx)**2 + ((u[1] - u_obs[1]) / σy)**2) * dx\n",
    "\n",
    "L = 5e3\n",
    "def regularization(θ):\n",
    "    return 0.5 * L**2 * inner(grad(θ), grad(θ)) * dx"
   ]
  },
  {
   "cell_type": "markdown",
   "metadata": {},
   "source": [
    "Now we create the `InverseProblem` object.\n",
    "We've already mentioned several objects that the inverse problem needs -- the model, the initial guess, some functionals, etc.\n",
    "Additionally, it needs to know the name of the observed field and the parameter (the `state_name` and `parameter_name`) arguments, since these values are passed to the forward solver as keyword arguments.\n",
    "\n",
    "All the additional arguments to the forward model are passed as a dictionary `model_args`.\n",
    "In our case, these consist of the thickness field, the initial guess for the velocity, and the forward solver tolerance.\n",
    "Finally, to specify the inverse problem, we need to know where Dirichlet boundary conditions are to be applied, as this affects how one solves for the Lagrange multiplier field $\\lambda$."
   ]
  },
  {
   "cell_type": "code",
   "execution_count": null,
   "metadata": {},
   "outputs": [],
   "source": [
    "problem = icepack.inverse.InverseProblem(\n",
    "    model=ice_shelf,\n",
    "    method=icepack.models.IceShelf.diagnostic_solve,\n",
    "    objective=objective,\n",
    "    regularization=regularization,\n",
    "    state_name='u',\n",
    "    state=u,\n",
    "    parameter_name='θ',\n",
    "    parameter=θ,\n",
    "    model_args={'h': h, 'u0': u, 'tol': 1e-6},\n",
    "    dirichlet_ids=opts['dirichlet_ids']\n",
    ")"
   ]
  },
  {
   "cell_type": "markdown",
   "metadata": {},
   "source": [
    "Once we've created the problem, we then create a solver object that will iteratively search for a good value of the parameters.\n",
    "The inverse solver has lots of moving parts, all of which are wrapped in a class that inherits from `icepack.inverse.InverseSolver`.\n",
    "In our case, we'll be using the Gauss-Newton method, which is implemented in `GaussNewtonSolver`.\n",
    "Using this class should save you from worrying about too many low-level details, but still provide a good amount of flexibility and transparency.\n",
    "\n",
    "As a convenience, the inverse solver can take in a function that it will call at the end of every iteration.\n",
    "For this demonstration, we'll have it print out the values of the misfit and regularization functionals.\n",
    "You could also, say, make a plot of the state and parameter guess at every iteration to make a movie of how the algorithm progresses."
   ]
  },
  {
   "cell_type": "code",
   "execution_count": null,
   "metadata": {},
   "outputs": [],
   "source": [
    "area = firedrake.assemble(firedrake.Constant(1) * dx(mesh))\n",
    "def print_error_and_regularization(solver):\n",
    "    E = firedrake.assemble(solver.objective)\n",
    "    R = firedrake.assemble(solver.regularization)\n",
    "    print('{:g}, {:g}'.format(E/area, R/area))"
   ]
  },
  {
   "cell_type": "markdown",
   "metadata": {},
   "source": [
    "To create the solver object, we only need to give it a problem and optionally the function it will call on each iteration.\n",
    "(In programming parlance this is called a *callback function*.)\n",
    "\n",
    "As a general principle, it's a good idea to separate out the *specification* of a problem, in this case represented by the `InverseProblem` class, from the method used to solve the problem, represented by the `GaussNewtonSolver` class."
   ]
  },
  {
   "cell_type": "code",
   "execution_count": null,
   "metadata": {},
   "outputs": [],
   "source": [
    "solver = icepack.inverse.GaussNewtonSolver(problem, print_error_and_regularization)"
   ]
  },
  {
   "cell_type": "markdown",
   "metadata": {},
   "source": [
    "Before setting the solver loose, let's look at the initial search direction."
   ]
  },
  {
   "cell_type": "code",
   "execution_count": null,
   "metadata": {},
   "outputs": [],
   "source": [
    "fig, axes = subplots()\n",
    "contours = icepack.plot.tricontourf(solver.search_direction, 20, alpha=0.6,\n",
    "                                    cmap='RdBu', axes=axes)\n",
    "fig.colorbar(contours)\n",
    "plt.show(fig)"
   ]
  },
  {
   "cell_type": "markdown",
   "metadata": {},
   "source": [
    "The search direction is obtained by multiplying the inverse of the Gauss-Newton matrix $H$ by the gradient $dJ$ of the objective function.\n",
    "The Gauss-Newton matrix is dense, so we don't actually build the matrix directly.\n",
    "Instead, the solver contains a procedure to multiply a vector by $H$, which is all that's necessary for using iterative methods to solve linear systems.\n",
    "Computing the search direction like this is time-consuming, but results in far fewer iterations, so it's a net win.\n",
    "\n",
    "The solve method takes in a relative convergence tolerance, an absolute tolerance, and a maximum number of iterations, and it returns the total number of iterations necessary to achieve the given tolerances.\n",
    "In our case, we'll stop once the relative decrease in the objective function from one iteration to the next is less than 1/200.\n",
    "\n",
    "The algorithm takes a while to run.\n",
    "Now would be the time to put on a fresh pot of coffee."
   ]
  },
  {
   "cell_type": "code",
   "execution_count": null,
   "metadata": {},
   "outputs": [],
   "source": [
    "iterations = solver.solve(\n",
    "    rtol=5e-3,\n",
    "    atol=0.0,\n",
    "    max_iterations=30\n",
    ")"
   ]
  },
  {
   "cell_type": "markdown",
   "metadata": {},
   "source": [
    "The algorithm converges in just a few iterations because of how good a search direction we get from using the Gauss-Newton approximation.\n",
    "Other methods like gradient descent take many more iterations to reach the same agreement with the data."
   ]
  },
  {
   "cell_type": "markdown",
   "metadata": {},
   "source": [
    "### Analysis\n",
    "\n",
    "Now that we're done, we'll want to do some post-processing and analysis on the fluidity parameter that we inferred.\n",
    "The inverse problem object stores the parameter we're inferring and the observed field as the properties `parameter` and `state` respectively.\n",
    "The names are intentionally not specific to just ice shelves.\n",
    "For other problems, we might instead be inferring a friction coefficient rather than a fluidity, or we might be observing the thickness instead of the velocity.\n",
    "You can see all the publicly visible properties by typing `help(inverse_problem)`.\n",
    "\n",
    "First, let's plot the parameter value and the fluidity."
   ]
  },
  {
   "cell_type": "code",
   "execution_count": null,
   "metadata": {},
   "outputs": [],
   "source": [
    "fig, axes = subplots()\n",
    "contours = icepack.plot.tricontourf(solver.parameter, np.linspace(-10, 10, 41),\n",
    "                                    alpha=0.6, cmap='RdBu', extend='both', axes=axes)\n",
    "fig.colorbar(contours)\n",
    "plt.show(fig)"
   ]
  },
  {
   "cell_type": "code",
   "execution_count": null,
   "metadata": {},
   "outputs": [],
   "source": [
    "A = firedrake.interpolate(A0 * firedrake.exp(-solver.parameter / n), Q)\n",
    "fig, axes = subplots()\n",
    "contours = icepack.plot.tricontourf(A, levels=np.linspace(0, 50, 51),\n",
    "                                    alpha=0.6, extend='both', axes=axes)\n",
    "fig.colorbar(contours)\n",
    "plt.show(fig)"
   ]
  },
  {
   "cell_type": "markdown",
   "metadata": {},
   "source": [
    "The fluidity is much higher around areas of heavy crevassing, such as the rift opening from the Gipps Ice Rise and the area flowing into it.\n",
    "Additionally, several areas downstream of the inlets have much higher fluidity, and these might indicate the formation of marine ice.\n",
    "\n",
    "The fluidity is substantially lower around the upper left edge of the ice shelf.\n",
    "Some of the ice might actually be grounded here, in which case the resulting basal drag would tend to reduce the extensional strain of the glacier.\n",
    "However, since the only tunable variable for explaining the observed velocities is the fluidity, the algorithm will erroneously converge on whatever value of the fluidity can reproduce the observed values.\n",
    "In this case, the result is a very low value of $A$, but for other problems the bias can go in the other direction."
   ]
  },
  {
   "cell_type": "markdown",
   "metadata": {},
   "source": [
    "To see how well the parameters fit the data, let's look at the weighted difference between the computed and observed velocities."
   ]
  },
  {
   "cell_type": "code",
   "execution_count": null,
   "metadata": {},
   "outputs": [],
   "source": [
    "fig, axes = subplots()\n",
    "δu = firedrake.interpolate((solver.state - u_obs)**2/(2*σ**2), Q)\n",
    "contours = icepack.plot.tricontourf(δu, levels=np.linspace(0, 6, 51),\n",
    "                                    alpha=0.6, cmap='Reds', extend='both', axes=axes)\n",
    "fig.colorbar(contours)\n",
    "plt.show(fig)"
   ]
  },
  {
   "cell_type": "markdown",
   "metadata": {},
   "source": [
    "The computed ice velocity is mostly similar to observations aside from a few blips.\n",
    "The most widespread departures from observations occur around the rifts that flow into the Gipps Ice Rise.\n",
    "We regularized the problem by looking only for smooth values of the fluidity parameter.\n",
    "As a consequence, we won't be able to see sharp changes that might result from features like crevasses or rifts.\n",
    "We might instead try to use the total variation functional\n",
    "\n",
    "$$R(\\theta) = L\\int_\\Omega|\\nabla\\theta|dx$$\n",
    "\n",
    "if we were interested in features like this."
   ]
  },
  {
   "cell_type": "markdown",
   "metadata": {},
   "source": [
    "Finally, let's try and see how much the inferred parameter departed from our naive initial guess."
   ]
  },
  {
   "cell_type": "code",
   "execution_count": null,
   "metadata": {},
   "outputs": [],
   "source": [
    "print(icepack.norm(solver.parameter) / np.sqrt(area))\n",
    "print(firedrake.assemble(solver.objective) / area)"
   ]
  },
  {
   "cell_type": "markdown",
   "metadata": {},
   "source": [
    "The objective function has been reduced by a factor of 10 through the optimization procedure, and our final approximation departs quite substantially from the initial guess.\n",
    "This suggests that data assimilation does give a substantial benefit over an ad-hoc approach like picking a sensible constant value."
   ]
  },
  {
   "cell_type": "markdown",
   "metadata": {},
   "source": [
    "### Conclusion\n",
    "\n",
    "In this demo, we've shown how to back out the fluidity of an ice shelf from remote sensing observations.\n",
    "We could then use this value, together with a description of how the fluidity evolves, to initialize a prognostic model of the ice shelf.\n",
    "For example, we might assume that the fluidity is a function of ice temperature and damage.\n",
    "The evolution equations for these fields are fairly simple hyperbolic PDE for which we can write solvers using firedrake.\n",
    "\n",
    "The value of the fluidity that we obtained is not at all spatially homogeneous.\n",
    "Unless we were very clever, we probably couldn't have come up with some way to parameterize it to get a reasonable guess.\n",
    "\n",
    "We would expect from statistical estimation theory that the value of the misfit functional divided by the shelf area will be around 1.\n",
    "(A sum of squares of normal random variables has a $\\chi^2$ distribution, which has mean 1, there are two components of the velocity vector, and we divide by 2 at the end.)\n",
    "The misfit we obtained once the algorithm has converged is very close to 1, which is a sign that the regularization parameter has been dialed in just right.\n",
    "However, we don't always get so lucky.\n",
    "Sometimes you can't fit the data as well as you expect from statistics, and there are a number of possible \"failure modes\":\n",
    "\n",
    "1. The error estimates $\\sigma$ could be wrong.\n",
    "2. We don't have a good way to also account for thickness errors, which are substantial.\n",
    "3. We regularized the problem too much.\n",
    "4. The ice shelf becomes grounded on some pinning point and we didn't add basal drag.\n",
    "5. I implemented the numerical optimization algorithm incorrectly.\n",
    "\n",
    "Failure modes 1 and 2 happen because we don't have the right statistical distribution for the errors, while failure mode 3 happens because we don't have the right prior distribution.\n",
    "Mode 4 is a more insidious type of failure.\n",
    "In this case, the physics model doesn't actually describe the true behavior of the system, and as a consequence is unable to reproduce the observations with any value of the inputs.\n",
    "Some wrong physics models may nonetheless be able to reproduce the observations, provided that they are [controllable](https://en.wikipedia.org/wiki/Controllability) as a function of the input parameters.\n",
    "Diagnosing this type of failure is arguably the most difficult.\n",
    "Last but not least is human error in implementing the optimization algorithms.\n",
    "These kinds of failures should be caught through testing on synthetic problems."
   ]
  }
 ],
 "metadata": {
  "kernelspec": {
   "display_name": "firedrake",
   "language": "python",
   "name": "firedrake"
  },
  "language_info": {
   "name": "python",
   "pygments_lexer": "ipython3"
  }
 },
 "nbformat": 4,
 "nbformat_minor": 2
}
